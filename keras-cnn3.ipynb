{
 "cells": [
  {
   "cell_type": "code",
   "execution_count": 1,
   "metadata": {
    "colab": {},
    "colab_type": "code",
    "id": "MfKG1NGnxjwK"
   },
   "outputs": [],
   "source": [
    "import numpy as np # linear algebra\n",
    "import pandas as pd # data processing, CSV file I/O (e.g. pd.read_csv)\n",
    "import matplotlib.pyplot as plt\n",
    "import tensorflow as tf\n",
    "\n",
    "\n"
   ]
  },
  {
   "cell_type": "code",
   "execution_count": 2,
   "metadata": {
    "colab": {
     "base_uri": "https://localhost:8080/",
     "height": 124
    },
    "colab_type": "code",
    "id": "zoMf2SMhxsG3",
    "outputId": "ae9fd70b-3aa1-4961-8d8d-bb667f1d3383"
   },
   "outputs": [
    {
     "name": "stdout",
     "output_type": "stream",
     "text": [
      "Train size:(42000, 785)\n",
      "Test size:(28000, 784)\n",
      "(37380, 28, 28)\n",
      "(4620, 28, 28)\n",
      "(37380,)\n",
      "(28000, 28, 28)\n"
     ]
    }
   ],
   "source": [
    "from tensorflow.python.keras.utils.np_utils import to_categorical\n",
    "from sklearn.model_selection import train_test_split\n",
    "\n",
    "# Import Data\n",
    "train = pd.read_csv(\"../input/train.csv\")\n",
    "test = pd.read_csv(\"../input/test.csv\")\n",
    "print(\"Train size:{}\\nTest size:{}\".format(train.shape, test.shape))\n",
    "\n",
    "# Transform Train and Test into images\\labels.\n",
    "x_train = train.drop(['label'], axis=1).values.astype('float32') # all pixel values\n",
    "y_train = train['label'].values.astype('int32') # only labels i.e targets digits\n",
    "x_test = test.values.astype('float32')\n",
    "x_train = x_train.reshape(x_train.shape[0], 28, 28) / 255.0\n",
    "x_test = x_test.reshape(x_test.shape[0], 28, 28) / 255.0\n",
    "\n",
    "x_train, x_val, y_train, y_val = train_test_split(x_train, y_train, test_size = 0.11, random_state=42)\n",
    "\n",
    "print(x_train.shape)\n",
    "print(x_val.shape)\n",
    "print(y_train.shape)\n",
    "print(x_test.shape)"
   ]
  },
  {
   "cell_type": "code",
   "execution_count": 3,
   "metadata": {
    "colab": {
     "base_uri": "https://localhost:8080/",
     "height": 70
    },
    "colab_type": "code",
    "id": "ZRAxgQMnxt93",
    "outputId": "757570e0-1ef9-4e58-b1b4-8edfd67b6cdc"
   },
   "outputs": [
    {
     "name": "stdout",
     "output_type": "stream",
     "text": [
      "Train size:(37380, 28, 28, 1)\n",
      "validation size:(4620, 28, 28, 1)\n",
      "Test size:(28000, 28, 28, 1)\n"
     ]
    }
   ],
   "source": [
    "x_train = x_train.reshape(x_train.shape[0], 28, 28,1)  \n",
    "x_val = x_val.reshape(x_val.shape[0], 28, 28,1)  \n",
    "x_test = x_test.reshape(x_test.shape[0], 28, 28,1) \n",
    "print(\"Train size:{}\\nvalidation size:{}\\nTest size:{}\".format(x_train.shape,x_val.shape, x_test.shape))\n",
    "\n",
    "mean_px = x_train.mean().astype(np.float32)\n",
    "std_px = x_train.std().astype(np.float32)\n"
   ]
  },
  {
   "cell_type": "code",
   "execution_count": 4,
   "metadata": {
    "colab": {
     "base_uri": "https://localhost:8080/",
     "height": 1015
    },
    "colab_type": "code",
    "id": "67pGVOE4x3mc",
    "outputId": "a2dce563-7de1-4365-b1f0-23613c1c19c2"
   },
   "outputs": [
    {
     "name": "stdout",
     "output_type": "stream",
     "text": [
      "WARNING:tensorflow:From /opt/conda/lib/python3.6/site-packages/tensorflow/python/ops/resource_variable_ops.py:435: colocate_with (from tensorflow.python.framework.ops) is deprecated and will be removed in a future version.\n",
      "Instructions for updating:\n",
      "Colocations handled automatically by placer.\n",
      "WARNING:tensorflow:From /opt/conda/lib/python3.6/site-packages/tensorflow/python/keras/layers/core.py:143: calling dropout (from tensorflow.python.ops.nn_ops) with keep_prob is deprecated and will be removed in a future version.\n",
      "Instructions for updating:\n",
      "Please use `rate` instead of `keep_prob`. Rate should be set to `rate = 1 - keep_prob`.\n",
      "_________________________________________________________________\n",
      "Layer (type)                 Output Shape              Param #   \n",
      "=================================================================\n",
      "input_1 (InputLayer)         (None, 28, 28, 1)         0         \n",
      "_________________________________________________________________\n",
      "conv2d (Conv2D)              (None, 28, 28, 32)        832       \n",
      "_________________________________________________________________\n",
      "activation (Activation)      (None, 28, 28, 32)        0         \n",
      "_________________________________________________________________\n",
      "conv2d_1 (Conv2D)            (None, 28, 28, 32)        25632     \n",
      "_________________________________________________________________\n",
      "activation_1 (Activation)    (None, 28, 28, 32)        0         \n",
      "_________________________________________________________________\n",
      "max_pooling2d (MaxPooling2D) (None, 14, 14, 32)        0         \n",
      "_________________________________________________________________\n",
      "dropout (Dropout)            (None, 14, 14, 32)        0         \n",
      "_________________________________________________________________\n",
      "conv2d_2 (Conv2D)            (None, 14, 14, 64)        18496     \n",
      "_________________________________________________________________\n",
      "activation_2 (Activation)    (None, 14, 14, 64)        0         \n",
      "_________________________________________________________________\n",
      "dropout_1 (Dropout)          (None, 14, 14, 64)        0         \n",
      "_________________________________________________________________\n",
      "conv2d_3 (Conv2D)            (None, 14, 14, 64)        36928     \n",
      "_________________________________________________________________\n",
      "activation_3 (Activation)    (None, 14, 14, 64)        0         \n",
      "_________________________________________________________________\n",
      "conv2d_4 (Conv2D)            (None, 14, 14, 64)        36928     \n",
      "_________________________________________________________________\n",
      "activation_4 (Activation)    (None, 14, 14, 64)        0         \n",
      "_________________________________________________________________\n",
      "max_pooling2d_1 (MaxPooling2 (None, 7, 7, 64)          0         \n",
      "_________________________________________________________________\n",
      "dropout_2 (Dropout)          (None, 7, 7, 64)          0         \n",
      "_________________________________________________________________\n",
      "flatten (Flatten)            (None, 3136)              0         \n",
      "_________________________________________________________________\n",
      "dense (Dense)                (None, 256)               803072    \n",
      "_________________________________________________________________\n",
      "activation_5 (Activation)    (None, 256)               0         \n",
      "_________________________________________________________________\n",
      "batch_normalization_v1 (Batc (None, 256)               1024      \n",
      "_________________________________________________________________\n",
      "dense_1 (Dense)              (None, 10)                2570      \n",
      "_________________________________________________________________\n",
      "activation_6 (Activation)    (None, 10)                0         \n",
      "=================================================================\n",
      "Total params: 925,482\n",
      "Trainable params: 924,970\n",
      "Non-trainable params: 512\n",
      "_________________________________________________________________\n",
      "None\n"
     ]
    }
   ],
   "source": [
    "from tensorflow.python.keras.layers import Input , Dense , Conv2D , Activation , Add,ReLU,MaxPool2D,Flatten,Dropout,BatchNormalization\n",
    "from tensorflow.python.keras.models import Model\n",
    "\n",
    "\n",
    "\n",
    "input = Input(shape=[28, 28, 1])\n",
    "x = Conv2D(32, (5, 5), strides=1, padding='same')(input)\n",
    "# x = BatchNormalization(momentum=0.1, epsilon=1e-5, gamma_initializer='uniform')(x)\n",
    "x = Activation('relu')(x)\n",
    "x = Conv2D(32, (5, 5), strides=1, padding='same')(x)\n",
    "# x = BatchNormalization(momentum=0.1, epsilon=1e-5, gamma_initializer='uniform')(x)\n",
    "x = Activation('relu')(x)\n",
    "x = MaxPool2D(pool_size=2, strides=2, padding='same')(x)\n",
    "x = Dropout (0.2)(x)\n",
    "\n",
    "x = Conv2D(64, (3, 3), strides=1, padding='same')(x)\n",
    "# x = BatchNormalization(momentum=0.1, epsilon=1e-5, gamma_initializer='uniform')(x)\n",
    "x = Activation('relu')(x)\n",
    "x = Dropout (0.5)(x)\n",
    "x = Conv2D(64, (3, 3), strides=1, padding='same')(x)\n",
    "# x = BatchNormalization(momentum=0.1, epsilon=1e-5, gamma_initializer='uniform')(x)\n",
    "x = Activation('relu')(x)\n",
    "x = Conv2D(64, (3, 3), strides=1, padding='same')(x)\n",
    "# x = BatchNormalization(momentum=0.1, epsilon=1e-5, gamma_initializer='uniform')(x)\n",
    "x = Activation('relu')(x)\n",
    "\n",
    "x = MaxPool2D(pool_size=2, strides=2, padding='same')(x)\n",
    "x = Dropout (0.2)(x)\n",
    "x = Flatten()(x)\n",
    "x = Dense(256)(x)\n",
    "x = Activation('relu')(x)\n",
    "x = BatchNormalization()(x)\n",
    "x = Dense(10)(x)\n",
    "x = Activation('softmax')(x)\n",
    "\n",
    "model = Model(inputs = input, outputs =x)\n",
    "print(model.summary())"
   ]
  },
  {
   "cell_type": "code",
   "execution_count": 5,
   "metadata": {
    "colab": {
     "base_uri": "https://localhost:8080/",
     "height": 1795
    },
    "colab_type": "code",
    "id": "E5wvX-kUx9RM",
    "outputId": "ffba034f-b912-4495-bea4-c8cde2801782"
   },
   "outputs": [
    {
     "name": "stdout",
     "output_type": "stream",
     "text": [
      "WARNING:tensorflow:From /opt/conda/lib/python3.6/site-packages/tensorflow/python/ops/math_ops.py:3066: to_int32 (from tensorflow.python.ops.math_ops) is deprecated and will be removed in a future version.\n",
      "Instructions for updating:\n",
      "Use tf.cast instead.\n",
      "4620/4620 [==============================] - 0s 55us/sample - loss: 0.3820 - acc: 0.9723\n",
      "\n",
      "Epoch 00001: val_acc improved from -inf to 0.97229, saving model to best_weights.hdf5\n",
      "4620/4620 [==============================] - 0s 25us/sample - loss: 0.2297 - acc: 0.9314\n",
      "\n",
      "Epoch 00002: val_acc did not improve from 0.97229\n",
      "4620/4620 [==============================] - 0s 31us/sample - loss: 0.0511 - acc: 0.9855\n",
      "\n",
      "Epoch 00003: val_acc improved from 0.97229 to 0.98550, saving model to best_weights.hdf5\n",
      "4620/4620 [==============================] - 0s 30us/sample - loss: 0.0547 - acc: 0.9855\n",
      "\n",
      "Epoch 00004: val_acc did not improve from 0.98550\n",
      "4620/4620 [==============================] - 0s 30us/sample - loss: 0.0335 - acc: 0.9903\n",
      "\n",
      "Epoch 00005: val_acc improved from 0.98550 to 0.99026, saving model to best_weights.hdf5\n",
      "4620/4620 [==============================] - 0s 26us/sample - loss: 0.0331 - acc: 0.9903\n",
      "\n",
      "Epoch 00006: val_acc did not improve from 0.99026\n",
      "4620/4620 [==============================] - 0s 27us/sample - loss: 0.0296 - acc: 0.9905\n",
      "\n",
      "Epoch 00007: val_acc improved from 0.99026 to 0.99048, saving model to best_weights.hdf5\n",
      "4620/4620 [==============================] - 0s 27us/sample - loss: 0.0302 - acc: 0.9894\n",
      "\n",
      "Epoch 00008: val_acc did not improve from 0.99048\n",
      "4620/4620 [==============================] - 0s 27us/sample - loss: 0.0324 - acc: 0.9922\n",
      "\n",
      "Epoch 00009: val_acc improved from 0.99048 to 0.99221, saving model to best_weights.hdf5\n",
      "4620/4620 [==============================] - 0s 26us/sample - loss: 0.0705 - acc: 0.9814\n",
      "\n",
      "Epoch 00010: val_acc did not improve from 0.99221\n",
      "4620/4620 [==============================] - 0s 27us/sample - loss: 0.0294 - acc: 0.9907\n",
      "\n",
      "Epoch 00011: val_acc did not improve from 0.99221\n",
      "4620/4620 [==============================] - 0s 26us/sample - loss: 0.0275 - acc: 0.9909\n",
      "\n",
      "Epoch 00012: val_acc did not improve from 0.99221\n",
      "4620/4620 [==============================] - 0s 38us/sample - loss: 0.0205 - acc: 0.9933\n",
      "\n",
      "Epoch 00013: val_acc improved from 0.99221 to 0.99329, saving model to best_weights.hdf5\n",
      "4620/4620 [==============================] - 0s 28us/sample - loss: 0.0258 - acc: 0.9922\n",
      "\n",
      "Epoch 00014: val_acc did not improve from 0.99329\n",
      "4620/4620 [==============================] - 0s 26us/sample - loss: 0.0209 - acc: 0.9926\n",
      "\n",
      "Epoch 00015: val_acc did not improve from 0.99329\n",
      "4620/4620 [==============================] - 0s 28us/sample - loss: 0.0332 - acc: 0.9890\n",
      "\n",
      "Epoch 00016: val_acc did not improve from 0.99329\n",
      "4620/4620 [==============================] - 0s 26us/sample - loss: 0.0213 - acc: 0.9926\n",
      "\n",
      "Epoch 00017: val_acc did not improve from 0.99329\n",
      "4620/4620 [==============================] - 0s 28us/sample - loss: 0.0198 - acc: 0.9939\n",
      "\n",
      "Epoch 00018: val_acc improved from 0.99329 to 0.99394, saving model to best_weights.hdf5\n",
      "4620/4620 [==============================] - 0s 31us/sample - loss: 0.0217 - acc: 0.9935\n",
      "\n",
      "Epoch 00019: val_acc did not improve from 0.99394\n",
      "4620/4620 [==============================] - 0s 31us/sample - loss: 0.0205 - acc: 0.9924\n",
      "\n",
      "Epoch 00020: val_acc did not improve from 0.99394\n",
      "4620/4620 [==============================] - 0s 27us/sample - loss: 0.0188 - acc: 0.9942\n",
      "\n",
      "Epoch 00021: val_acc improved from 0.99394 to 0.99416, saving model to best_weights.hdf5\n",
      "4620/4620 [==============================] - 0s 33us/sample - loss: 0.0189 - acc: 0.9942\n",
      "\n",
      "Epoch 00022: val_acc did not improve from 0.99416\n",
      "4620/4620 [==============================] - 0s 27us/sample - loss: 0.0248 - acc: 0.9924\n",
      "\n",
      "Epoch 00023: val_acc did not improve from 0.99416\n",
      "4620/4620 [==============================] - 0s 24us/sample - loss: 0.0194 - acc: 0.9937\n",
      "\n",
      "Epoch 00024: val_acc did not improve from 0.99416\n",
      "4620/4620 [==============================] - 0s 30us/sample - loss: 0.0186 - acc: 0.9944\n",
      "\n",
      "Epoch 00025: val_acc improved from 0.99416 to 0.99437, saving model to best_weights.hdf5\n",
      "4620/4620 [==============================] - 0s 29us/sample - loss: 0.0199 - acc: 0.9939\n",
      "\n",
      "Epoch 00026: val_acc did not improve from 0.99437\n",
      "4620/4620 [==============================] - 0s 32us/sample - loss: 0.0180 - acc: 0.9948\n",
      "\n",
      "Epoch 00027: val_acc improved from 0.99437 to 0.99481, saving model to best_weights.hdf5\n",
      "4620/4620 [==============================] - 0s 27us/sample - loss: 0.0174 - acc: 0.9952\n",
      "\n",
      "Epoch 00028: val_acc improved from 0.99481 to 0.99524, saving model to best_weights.hdf5\n",
      "4620/4620 [==============================] - 0s 27us/sample - loss: 0.0169 - acc: 0.9950\n",
      "\n",
      "Epoch 00029: val_acc did not improve from 0.99524\n",
      "4620/4620 [==============================] - 0s 31us/sample - loss: 0.0178 - acc: 0.9948\n",
      "\n",
      "Epoch 00030: val_acc did not improve from 0.99524\n",
      "4620/4620 [==============================] - 0s 27us/sample - loss: 0.0180 - acc: 0.9939\n",
      "\n",
      "Epoch 00031: val_acc did not improve from 0.99524\n",
      "4620/4620 [==============================] - 0s 26us/sample - loss: 0.0186 - acc: 0.9946\n",
      "\n",
      "Epoch 00032: val_acc did not improve from 0.99524\n",
      "4620/4620 [==============================] - 0s 26us/sample - loss: 0.0191 - acc: 0.9935\n",
      "\n",
      "Epoch 00033: val_acc did not improve from 0.99524\n",
      "4620/4620 [==============================] - 0s 29us/sample - loss: 0.0177 - acc: 0.9946\n",
      "\n",
      "Epoch 00034: val_acc did not improve from 0.99524\n",
      "4620/4620 [==============================] - 0s 30us/sample - loss: 0.0179 - acc: 0.9937\n",
      "\n",
      "Epoch 00035: val_acc did not improve from 0.99524\n",
      "4620/4620 [==============================] - 0s 24us/sample - loss: 0.0192 - acc: 0.9939\n",
      "\n",
      "Epoch 00036: val_acc did not improve from 0.99524\n",
      "4620/4620 [==============================] - 0s 30us/sample - loss: 0.0176 - acc: 0.9944\n",
      "\n",
      "Epoch 00037: val_acc did not improve from 0.99524\n",
      "4620/4620 [==============================] - 0s 32us/sample - loss: 0.0165 - acc: 0.9950\n",
      "\n",
      "Epoch 00038: val_acc did not improve from 0.99524\n",
      "4620/4620 [==============================] - 0s 27us/sample - loss: 0.0181 - acc: 0.9948\n",
      "\n",
      "Epoch 00039: val_acc did not improve from 0.99524\n",
      "4620/4620 [==============================] - 0s 28us/sample - loss: 0.0175 - acc: 0.9950\n",
      "\n",
      "Epoch 00040: val_acc did not improve from 0.99524\n",
      "4620/4620 [==============================] - 0s 28us/sample - loss: 0.0187 - acc: 0.9942\n",
      "\n",
      "Epoch 00041: val_acc did not improve from 0.99524\n",
      "4620/4620 [==============================] - 0s 25us/sample - loss: 0.0188 - acc: 0.9946\n",
      "\n",
      "Epoch 00042: val_acc did not improve from 0.99524\n",
      "4620/4620 [==============================] - 0s 25us/sample - loss: 0.0189 - acc: 0.9944\n",
      "\n",
      "Epoch 00043: val_acc did not improve from 0.99524\n",
      "4620/4620 [==============================] - 0s 23us/sample - loss: 0.0180 - acc: 0.9942\n",
      "\n",
      "Epoch 00044: val_acc did not improve from 0.99524\n",
      "4620/4620 [==============================] - 0s 25us/sample - loss: 0.0185 - acc: 0.9939\n",
      "\n",
      "Epoch 00045: val_acc did not improve from 0.99524\n",
      "4620/4620 [==============================] - 0s 29us/sample - loss: 0.0181 - acc: 0.9944\n",
      "\n",
      "Epoch 00046: val_acc did not improve from 0.99524\n",
      "4620/4620 [==============================] - 0s 27us/sample - loss: 0.0168 - acc: 0.9948\n",
      "\n",
      "Epoch 00047: val_acc did not improve from 0.99524\n",
      "4620/4620 [==============================] - 0s 24us/sample - loss: 0.0178 - acc: 0.9939\n",
      "\n",
      "Epoch 00048: val_acc did not improve from 0.99524\n",
      "4620/4620 [==============================] - 0s 25us/sample - loss: 0.0174 - acc: 0.9946\n",
      "\n",
      "Epoch 00049: val_acc did not improve from 0.99524\n",
      "4620/4620 [==============================] - 0s 26us/sample - loss: 0.0166 - acc: 0.9939\n",
      "\n",
      "Epoch 00050: val_acc did not improve from 0.99524\n"
     ]
    }
   ],
   "source": [
    "from tensorflow.python.keras.preprocessing.image import ImageDataGenerator\n",
    "from tensorflow.python.keras.callbacks import ReduceLROnPlateau, ModelCheckpoint\n",
    "from tensorflow.python.keras.optimizers import Adam ,RMSprop\n",
    "\n",
    "\n",
    "# optimizer = RMSprop(lr=0.001, rho=0.95, epsilon=1e-08, decay=0.0)\n",
    "epochs = 50\n",
    "Learning_rate = 0.001\n",
    "decay= 5 * Learning_rate / epochs\n",
    "# optimizer = Adam(lr=Learning_rate, decay= 3 * Learning_rate / epochs)\n",
    "optimizer = RMSprop(lr=Learning_rate, rho=0.9, epsilon=1e-08, decay= 0)\n",
    "model.compile(optimizer=optimizer,\n",
    "              loss='sparse_categorical_crossentropy',\n",
    "              metrics=['accuracy'])\n",
    "\n",
    "#               loss='sparse_categorical_crossentropy',\n",
    "\n",
    "# Set a learning rate annealer\n",
    "learning_rate_reduction = ReduceLROnPlateau(monitor='val_acc', \n",
    "                                            patience=3, \n",
    "                                            verbose=0, \n",
    "                                            factor=0.5, \n",
    "                                            min_lr=0.0001)\n",
    "\n",
    "# Data augmentation\n",
    "aug_num = 11 \n",
    "datagen = ImageDataGenerator(\n",
    "        featurewise_center=False,  # set input mean to 0 over the dataset\n",
    "        samplewise_center=False,  # set each sample mean to 0\n",
    "        featurewise_std_normalization=False,  # divide inputs by std of the dataset\n",
    "        samplewise_std_normalization=False,  # divide each input by its std\n",
    "        zca_whitening=False,  # apply ZCA whitening\n",
    "        rotation_range= aug_num,  # randomly rotate images in the range (degrees, 0 to 180)\n",
    "        zoom_range = aug_num / 100, # Randomly zoom image \n",
    "        width_shift_range= aug_num / 100,  # randomly shift images horizontally (fraction of total width)\n",
    "        height_shift_range= aug_num / 100,  # randomly shift images vertically (fraction of total height)\n",
    "        horizontal_flip=False,  # randomly flip images horizontally\n",
    "        vertical_flip=False)  # randomly flip images vertically\n",
    "\n",
    "\n",
    "datagen.fit(x_train)\n",
    "# batch_size = 64\n",
    "batch_size = 256\n",
    "# Max value lr_min = 0.000125\n",
    "checkpoint = ModelCheckpoint(\"best_weights.hdf5\", monitor='val_acc', verbose=1, save_best_only=True, mode='max')\n",
    "history = model.fit_generator(datagen.flow(x_train,y_train, batch_size=batch_size),\n",
    "                              epochs = epochs, validation_data = (x_val,y_val),\n",
    "                              verbose = 0, steps_per_epoch=x_train.shape[0] // batch_size,callbacks=[checkpoint,learning_rate_reduction])\n",
    "model.load_weights(\"best_weights.hdf5\") \n"
   ]
  },
  {
   "cell_type": "code",
   "execution_count": 6,
   "metadata": {
    "colab": {
     "base_uri": "https://localhost:8080/",
     "height": 572
    },
    "colab_type": "code",
    "id": "RZpOibHDyA9r",
    "outputId": "4b5ad757-3734-40a9-a1b1-f22c41f45ceb"
   },
   "outputs": [
    {
     "data": {
      "image/png": "[encoded data removed]",
      "text/plain": [
       "<Figure size 432x288 with 1 Axes>"
      ]
     },
     "metadata": {},
     "output_type": "display_data"
    },
    {
     "data": {
      "image/png": "[encoded data removed]",
      "text/plain": [
       "<Figure size 432x288 with 1 Axes>"
      ]
     },
     "metadata": {},
     "output_type": "display_data"
    }
   ],
   "source": [
    "plt.figure(1)\n",
    "plt.plot(history.history['loss'])\n",
    "plt.plot(history.history['val_loss'])\n",
    "plt.title('Model Complexity Graph:  Training vs. Validation Loss')\n",
    "plt.ylabel('loss')\n",
    "plt.xlabel('epoch')\n",
    "plt.legend(['train', 'validate'], loc='upper right')\n",
    "\n",
    "plt.figure(2)\n",
    "plt.plot(history.history['acc'])\n",
    "plt.plot(history.history['val_acc'])\n",
    "plt.title('Model Accuracy Graph:  Training vs. Validation accuracy')\n",
    "plt.ylabel('accuracy')\n",
    "plt.xlabel('epoch')\n",
    "plt.legend(['train', 'validate'], loc='upper right')\n",
    "plt.show()\n",
    "\n"
   ]
  },
  {
   "cell_type": "code",
   "execution_count": 7,
   "metadata": {
    "colab": {
     "base_uri": "https://localhost:8080/",
     "height": 70
    },
    "colab_type": "code",
    "id": "NXKsG0EABdVo",
    "outputId": "f93952d8-23ae-4664-b374-1cbd75271975"
   },
   "outputs": [
    {
     "name": "stdout",
     "output_type": "stream",
     "text": [
      "4620/4620 [==============================] - 0s 68us/sample - loss: 0.0174 - acc: 0.9952\n",
      "Loss: 0.0174\n",
      "Accuracy: 0.9952\n"
     ]
    }
   ],
   "source": [
    "score = model.evaluate(x_val, y_val)\n",
    "\n",
    "print('Loss: {:.4f}'.format(score[0]))\n",
    "print('Accuracy: {:.4f}'.format(score[1]))"
   ]
  },
  {
   "cell_type": "code",
   "execution_count": 8,
   "metadata": {
    "colab": {
     "base_uri": "https://localhost:8080/",
     "height": 35
    },
    "colab_type": "code",
    "id": "IT0B9-jiyKDM",
    "outputId": "127e737a-f289-4e3a-ae3c-453a9a41c67e"
   },
   "outputs": [],
   "source": [
    "prediction=model.predict(x_test)\n",
    "results=prediction\n",
    "results = np.argmax(results,axis = 1)\n",
    "\n",
    "\n",
    "results = pd.Series(results,name=\"Label\")\n",
    "\n",
    "submission = pd.concat([pd.Series(range(1,28001),name = \"ImageId\"),results],axis = 1)\n",
    "\n",
    "submission.to_csv(\"cnn_mnist_datagen.csv\",index=False)"
   ]
  },
  {
   "cell_type": "code",
   "execution_count": 9,
   "metadata": {
    "colab": {},
    "colab_type": "code",
    "id": "sYg1nKHBA8Y8"
   },
   "outputs": [],
   "source": []
  },
  {
   "cell_type": "code",
   "execution_count": 9,
   "metadata": {},
   "outputs": [],
   "source": []
  },
  {
   "cell_type": "code",
   "execution_count": 9,
   "metadata": {},
   "outputs": [],
   "source": []
  },
  {
   "cell_type": "code",
   "execution_count": 9,
   "metadata": {},
   "outputs": [],
   "source": []
  }
 ],
 "metadata": {
  "accelerator": "GPU",
  "colab": {
   "name": "Digit CNN check",
   "provenance": [],
   "version": "0.3.2"
  },
  "kernelspec": {
   "display_name": "Python 3",
   "language": "python",
   "name": "python3"
  },
  "language_info": {
   "codemirror_mode": {
    "name": "ipython",
    "version": 3
   },
   "file_extension": ".py",
   "mimetype": "text/x-python",
   "name": "python",
   "nbconvert_exporter": "python",
   "pygments_lexer": "ipython3",
   "version": "3.6.8"
  }
 },
 "nbformat": 4,
 "nbformat_minor": 1
}
